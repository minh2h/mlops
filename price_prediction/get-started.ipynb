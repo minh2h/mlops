{
 "cells": [
  {
   "cell_type": "markdown",
   "id": "f6688c4a",
   "metadata": {},
   "source": [
    "## MLFlow tracking server"
   ]
  },
  {
   "cell_type": "code",
   "execution_count": 6,
   "id": "5c0ea01d",
   "metadata": {},
   "outputs": [],
   "source": [
    "import mlflow"
   ]
  },
  {
   "cell_type": "code",
   "execution_count": 7,
   "id": "9000c48d",
   "metadata": {},
   "outputs": [],
   "source": [
    "mlflow.set_tracking_uri(\"http://127.0.0.1:5000\") "
   ]
  },
  {
   "cell_type": "code",
   "execution_count": 8,
   "id": "331e07cd",
   "metadata": {},
   "outputs": [
    {
     "name": "stdout",
     "output_type": "stream",
     "text": [
      "🏃 View run intelligent-hare-607 at: http://127.0.0.1:5000/#/experiments/398412294275769883/runs/ac611da034544d4d9532cf7fa5f54002\n",
      "🧪 View experiment at: http://127.0.0.1:5000/#/experiments/398412294275769883\n"
     ]
    }
   ],
   "source": [
    "mlflow.set_experiment(\"check localhost connection\")\n",
    "\n",
    "with mlflow.start_run() as run:\n",
    "    mlflow.log_metric(\"test\",1)\n",
    "    mlflow.log_metric(\"michael\",2)"
   ]
  },
  {
   "cell_type": "code",
   "execution_count": 5,
   "id": "0ef05ef0",
   "metadata": {},
   "outputs": [
    {
     "name": "stdout",
     "output_type": "stream",
     "text": [
      "🏃 View run sedate-fawn-552 at: http://127.0.0.1:5000/#/experiments/398412294275769883/runs/fae94a84568b45408b5803e8b7361c7e\n",
      "🧪 View experiment at: http://127.0.0.1:5000/#/experiments/398412294275769883\n"
     ]
    }
   ],
   "source": [
    "with mlflow.start_run():\n",
    "    mlflow.log_metric(\"test1\",1)\n",
    "    mlflow.log_metric(\"michael1\",2)"
   ]
  },
  {
   "cell_type": "code",
   "execution_count": null,
   "id": "a42c6287",
   "metadata": {},
   "outputs": [],
   "source": []
  }
 ],
 "metadata": {
  "kernelspec": {
   "display_name": "venv_mlops",
   "language": "python",
   "name": "python3"
  },
  "language_info": {
   "codemirror_mode": {
    "name": "ipython",
    "version": 3
   },
   "file_extension": ".py",
   "mimetype": "text/x-python",
   "name": "python",
   "nbconvert_exporter": "python",
   "pygments_lexer": "ipython3",
   "version": "3.13.0"
  }
 },
 "nbformat": 4,
 "nbformat_minor": 5
}
